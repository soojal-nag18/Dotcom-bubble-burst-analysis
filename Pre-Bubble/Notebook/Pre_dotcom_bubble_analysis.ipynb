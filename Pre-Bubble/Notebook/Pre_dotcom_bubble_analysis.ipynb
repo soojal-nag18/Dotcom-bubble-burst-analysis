{
 "cells": [
  {
   "metadata": {},
   "cell_type": "raw",
   "source": "#Analysis",
   "id": "799a713df69c6ba7"
  },
  {
   "metadata": {},
   "cell_type": "markdown",
   "source": [
    "# 📈 NASDAQ Composite Index — Pre-Dotcom Bubble Analysis (1990–1995)\n",
    "\n",
    "This notebook explores the performance of the NASDAQ Composite Index during the years leading up to the Dotcom Bubble.\n",
    "It covers the period **1990–1995**, highlighting trends and market growth that laid the groundwork for the massive expansion in technology stocks during the late 1990s.\n",
    "\n",
    "**Objectives:**\n",
    "- Load and clean historical NASDAQ data.\n",
    "- Visualize index trends and growth patterns.\n",
    "- Provide context for understanding the market conditions before the Dotcom boom.\n",
    "\n",
    "> 📌 **Context:**\n",
    "> The early 1990s saw rapid adoption of the internet and rising investor optimism around technology companies. This period set the stage for the IPO frenzy and overvaluations that fueled the Dotcom Bubble.# 📈 NASDAQ Composite Index — Pre-Dotcom Bubble Analysis (1990–1995)\n",
    "\n",
    "This notebook explores the performance of the NASDAQ Composite Index during the years leading up to the Dotcom Bubble.\n",
    "It covers the period **1990–1995**, highlighting trends and market growth that laid the groundwork for the massive expansion in technology stocks during the late 1990s.\n",
    "\n",
    "**Objectives:**\n",
    "- Load and clean historical NASDAQ data.\n",
    "- Visualize index trends and growth patterns.\n",
    "- Provide context for understanding the market conditions before the Dotcom boom.\n",
    "\n",
    "> 📌 **Context:**\n",
    "> The early 1990s saw rapid adoption of the internet and rising investor optimism around technology companies. This period set the stage for the IPO frenzy and overvaluations that fueled the Dotcom Bubble."
   ],
   "id": "61f7cbdbaca8526f"
  },
  {
   "metadata": {},
   "cell_type": "markdown",
   "source": [
    "## 📌 Pre-Dotcom Bubble Era — Key Highlights (1990–1995)\n",
    "\n",
    "1️. **Early Internet Adoption**\n",
    "The World Wide Web became publicly accessible in the early 1990s, with the first user-friendly web browser (*Mosaic*, 1993) making it easier for non-technical users to access the Internet.\n",
    "\n",
    "2️. **Growth of Tech Infrastructure**\n",
    "Personal computers, dial-up internet connections, and networking hardware expanded rapidly. Companies like Intel and Microsoft were dominant players laying the technological groundwork.\n",
    "\n",
    "3️. **Rise of Venture Capital Interest**\n",
    "Investors began funding small internet-related startups with new ideas. While early-stage funding existed, it was modest compared to the explosive venture capital surge of the late 1990s.\n",
    "\n",
    "4️. **NASDAQ’s Steady Performance**\n",
    "The NASDAQ Composite Index, which includes many technology companies, showed consistent growth. Large established tech companies like Microsoft and Intel drove most of this performance.\n",
    "\n",
    "5️. **Limited Public Awareness**\n",
    "Most of the general public was still unfamiliar with the Internet. E-commerce had not yet taken off.\n",
    "\n",
    "6️. **Netscape IPO — The Spark (1995)**\n",
    "Netscape’s initial public offering in August 1995 is often cited as the moment the Dotcom era truly ignited. Its stock famously doubled on the first day of trading, showcasing massive investor appetite for internet companies.\n",
    "\n",
    "7️. **Economic Backdrop**\n",
    "A stable macroeconomic environment with low interest rates provided ample capital for investments. Optimism about the “Information Age” fueled belief in the transformative power of internet technology.\n",
    "\n",
    "\n"
   ],
   "id": "2d1cd0e3158c417e"
  },
  {
   "metadata": {},
   "cell_type": "markdown",
   "source": [
    "## 📊 Why Use NASDAQ Composite Data?\n",
    "\n",
    "The **NASDAQ Composite Index** is the ideal benchmark for studying the Dotcom Bubble era for several reasons:\n",
    "\n",
    "1️. **Technology-Focused**\n",
    "NASDAQ has historically listed a large number of technology and internet companies. During the 1990s, it was home to most of the rapidly growing startups that fueled the Dotcom boom.\n",
    "\n",
    "2️. **Captures Investor Sentiment**\n",
    "The index reflects how investor confidence in technology stocks evolved before, during, and after the bubble. Its dramatic rise and fall mirror the speculative mania and subsequent collapse of the internet sector.\n",
    "\n",
    "3️. **Representative of the Era**\n",
    "Companies like Microsoft, Cisco, Intel, and later Amazon and Yahoo were major NASDAQ listings that became symbols of the Dotcom era. Tracking the index captures the collective impact of these companies on the market.\n",
    "\n",
    "4️. **Public and Reliable Data**\n",
    "NASDAQ Composite data is widely available, reliable, and free to use for analysis and education. It provides a clear time series of historical market trends without licensing complications.\n",
    "\n",
    "5️. **Clear Trends for Analysis**\n",
    "The NASDAQ’s performance from the early 1990s through the early 2000s makes it easy to visualize:\n",
    "- The steady growth in the **pre-bubble** era.\n",
    "- The rapid surge **during the bubble**.\n",
    "- The sharp decline **after the burst**."
   ],
   "id": "a3e4eaa28049a2f0"
  },
  {
   "metadata": {},
   "cell_type": "markdown",
   "source": "# Extraction Of Data",
   "id": "4d55e7c67ac76263"
  },
  {
   "metadata": {},
   "cell_type": "code",
   "outputs": [],
   "execution_count": null,
   "source": [
    "#import libraries\n",
    "\n",
    "import yfinance as yf\n",
    "import pandas as pd"
   ],
   "id": "30a6551d3216c6cb"
  },
  {
   "metadata": {},
   "cell_type": "code",
   "outputs": [],
   "execution_count": null,
   "source": [
    "# Define the NASDAQ Composite Index symbol\n",
    "symbol = \"^IXIC\"  # NASDAQ Composite Index on Yahoo Finance\n",
    "\n",
    "# Set the date range\n",
    "start_date = \"1990-01-01\"\n",
    "end_date = \"1995-12-31\""
   ],
   "id": "d4b7dbd8d80bc982"
  },
  {
   "metadata": {},
   "cell_type": "code",
   "outputs": [],
   "execution_count": null,
   "source": [
    "# Download the data\n",
    "nasdaq_data = yf.download(symbol, start=start_date, end=end_date)\n",
    "\n",
    "# Save to CSV\n",
    "nasdaq_data.to_csv(\"nasdaq_1990_1995.csv\")\n",
    "\n",
    "#outro\n",
    "print(\"NASDAQ data downloaded and saved as 'nasdaq_1990_1995.csv'\")"
   ],
   "id": "86ead145cfef4b75"
  },
  {
   "metadata": {},
   "cell_type": "markdown",
   "source": "This script downloads daily NASDAQ Composite Index data from 1990 to 1995 using Yahoo Finance, saves it as a CSV file, and prepares it for analysis of the pre-dotcom bubble era.",
   "id": "7eb6f5ca5fed3e07"
  },
  {
   "metadata": {},
   "cell_type": "markdown",
   "source": "# Visualization Of Data",
   "id": "f47ff424bdc59294"
  },
  {
   "metadata": {},
   "cell_type": "code",
   "outputs": [],
   "execution_count": null,
   "source": [
    "#import Libraries\n",
    "import pandas as pd\n",
    "import matplotlib.pyplot as plt\n",
    "\n",
    "# Load CSV and skip the Ticker row\n",
    "df = pd.read_csv(\"nasdaq_1990_1995.csv\", skiprows=[1])"
   ],
   "id": "aefe6e535c1429"
  },
  {
   "metadata": {},
   "cell_type": "code",
   "outputs": [],
   "execution_count": null,
   "source": [
    "# Rename 'Price' to 'Date'\n",
    "df = df.rename(columns={'Price': 'Date'})\n",
    "\n",
    "# Drop rows where Date == 'Date'\n",
    "df = df[df['Date'] != 'Date']\n",
    "\n",
    "# Convert 'Date' to datetime\n",
    "df['Date'] = pd.to_datetime(df['Date'], format='%Y-%m-%d')\n",
    "\n",
    "# Sort by date\n",
    "df = df.sort_values('Date')"
   ],
   "id": "5976327e2aa935c3"
  },
  {
   "metadata": {},
   "cell_type": "code",
   "outputs": [],
   "execution_count": null,
   "source": [
    "# Plot\n",
    "plt.figure(figsize=(12, 6))\n",
    "plt.plot(df['Date'], df['Close'], label='NASDAQ Close', color='green')\n",
    "plt.title(\"NASDAQ Composite Index (1990–1995)\")\n",
    "plt.xlabel(\"Date\")\n",
    "plt.ylabel(\"Closing Price\")\n",
    "plt.legend()\n",
    "plt.grid(True)\n",
    "plt.tight_layout()\n",
    "plt.show()"
   ],
   "id": "f0722de033291ec4"
  },
  {
   "metadata": {},
   "cell_type": "markdown",
   "source": [
    "This script loads the NASDAQ CSV, removes extra rows, renames columns, parses dates, sorts data, and plots the NASDAQ Composite Index closing prices for 1990–1995 to visualize pre-bubble trends.\n",
    "\n"
   ],
   "id": "dbcf6c83c7c78e38"
  },
  {
   "metadata": {},
   "cell_type": "markdown",
   "source": "# Graph Study",
   "id": "5f648e32c9f3f2d8"
  },
  {
   "metadata": {},
   "cell_type": "markdown",
   "source": "![Nasdaq 1990 - 95](nasdaq_1990_1995_graph.png)",
   "id": "dee7f912d9ed983c"
  },
  {
   "metadata": {},
   "cell_type": "markdown",
   "source": [
    "The graph above shows the daily closing prices of the NASDAQ Composite Index from **1990 to 1995** — a period widely regarded as the **foundation phase** of the Dotcom era.\n",
    "\n",
    "### 📌 Key Observations:\n",
    "- The index shows a **steady upward trend**, with periods of moderate corrections and recoveries.\n",
    "- By the end of 1995, the NASDAQ nearly doubled compared to its 1990 levels.\n",
    "\n",
    "### 📈 Reasons for Growth:\n",
    "1️. **Technological Breakthroughs**\n",
    "   Advances in computing, networking hardware, and software development drove optimism in the technology sector.\n",
    "\n",
    "2️. **Commercialization of the Internet**\n",
    "   The early 1990s saw the Internet transition from academic and military use to commercial applications. The release of the Mosaic web browser (1993) made the web accessible to the public.\n",
    "\n",
    "3️. **Emerging Tech Giants**\n",
    "   Strong performance by established tech firms such as Microsoft, Intel, and Cisco provided solid earnings and market leadership.\n",
    "\n",
    "4️. **Increased Venture Capital Investment**\n",
    "   Investors began funding startups exploring internet and networking technologies, fueling expectations of future profits.\n",
    "\n",
    "5️. **Macroeconomic Stability**\n",
    "   A stable U.S. economy, declining interest rates, and low inflation created favorable conditions for growth in equities, especially in technology.\n"
   ],
   "id": "13a07756724fe170"
  },
  {
   "metadata": {},
   "cell_type": "markdown",
   "source": [
    "## ✅ Conclusion: Pre-Bubble Phase\n",
    "\n",
    "This analysis shows how steady technological growth, stable macroeconomics, and early internet developments set the stage for the explosive Dotcom Bubble that followed.\n"
   ],
   "id": "8621983ad0bbb933"
  }
 ],
 "metadata": {
  "kernelspec": {
   "display_name": "Python 3",
   "language": "python",
   "name": "python3"
  },
  "language_info": {
   "codemirror_mode": {
    "name": "ipython",
    "version": 2
   },
   "file_extension": ".py",
   "mimetype": "text/x-python",
   "name": "python",
   "nbconvert_exporter": "python",
   "pygments_lexer": "ipython2",
   "version": "2.7.6"
  }
 },
 "nbformat": 4,
 "nbformat_minor": 5
}
